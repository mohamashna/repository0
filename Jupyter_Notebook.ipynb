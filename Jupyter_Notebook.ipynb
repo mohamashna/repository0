{
 "cells": [
  {
   "cell_type": "markdown",
   "metadata": {},
   "source": [
    "<center>\n",
    "    <img src=\"https://cf-courses-data.s3.us.cloud-object-storage.appdomain.cloud/IBMDeveloperSkillsNetwork-DS0105EN-SkillsNetwork/labs/Module2/images/SN_web_lightmode.png\" width=\"300\" alt=\"cognitiveclass.ai logo\"  />\n",
    "</center>\n"
   ]
  },
  {
   "cell_type": "markdown",
   "metadata": {},
   "source": [
    "# My Jupyter Notebook on IBM Watson Studio\n"
   ]
  },
  {
   "cell_type": "markdown",
   "metadata": {},
   "source": [
    "\n",
    "**Mohammad Ashna**  \n",
    "Biomedical Data Scientist"
   ]
  },
  {
   "cell_type": "markdown",
   "metadata": {},
   "source": [
    "*I am interested in data science because I believe data is the key to great scientific discoveries, particularly in the field of biology where we deal with an abundance of unpredictable variables and need to develop sophisticated mathematical models to forecast or assess the functions of complex organic systems.*"
   ]
  },
  {
   "cell_type": "markdown",
   "metadata": {},
   "source": [
    "### The code in the cell below will print out the string object stored in variable 'string' using python built-in method 'print'"
   ]
  },
  {
   "cell_type": "code",
   "execution_count": 2,
   "metadata": {},
   "outputs": [
    {
     "name": "stdout",
     "output_type": "stream",
     "text": [
      "Python will unlock the world!\n"
     ]
    }
   ],
   "source": [
    "string='Python will unlock the world!'\n",
    "print (string)"
   ]
  },
  {
   "cell_type": "markdown",
   "metadata": {},
   "source": [
    "+ Quotation block #1: HTML List\n",
    "    > <dl>\n",
    "          <dt>Assignment Requirements for the last cell:</dt>\n",
    "          <dd>1. Use of HTML or Markdown</dd>\n",
    "          <dd>2. The cell must include, at least, one of the itmes on the following list:\n",
    "              <ul>\n",
    "                  <li>horizontal rule</li>\n",
    "                  <li>bulletedlist</li>\n",
    "                  <li>tables</li>\n",
    "                  <li>hyperlinks</li>\n",
    "                  <li>images</li>\n",
    "                  <li>code/syntax highlighting</li>\n",
    "                  <li>blocked quotes</li>\n",
    "                  <li>strikethrough</li>\n",
    "              </ul></dd>  \n",
    "---\n",
    "\n",
    "* Quotation block #2: Markdown table, text highlighting, strikethrough and an HTML hyperlink:\n",
    "> 1 | 2 | 3\n",
    "--- | --- | ---\n",
    "`code/syntax highlighting` | ~~strikethrough~~ | <a href=\"https://www.ibm.com\"><i>This is a link to</i> <b>ibm.com</b></a>  \n",
    "------\n",
    "<img src=\"https://cf-courses-data.s3.us.cloud-object-storage.appdomain.cloud/IBMDeveloperSkillsNetwork-DS0105EN-SkillsNetwork/labs/Module2/images/SN_web_lightmode.png\" width=\"300\" alt=\"cognitiveclass.ai logo\"  />  \n",
    "     \n",
    "\n",
    "    "
   ]
  }
 ],
 "metadata": {
  "kernelspec": {
   "display_name": "Python 3 (ipykernel)",
   "language": "python",
   "name": "python3"
  },
  "language_info": {
   "codemirror_mode": {
    "name": "ipython",
    "version": 3
   },
   "file_extension": ".py",
   "mimetype": "text/x-python",
   "name": "python",
   "nbconvert_exporter": "python",
   "pygments_lexer": "ipython3",
   "version": "3.10.7"
  }
 },
 "nbformat": 4,
 "nbformat_minor": 4
}
